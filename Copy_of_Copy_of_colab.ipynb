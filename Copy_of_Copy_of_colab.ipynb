{
  "cells": [
    {
      "cell_type": "markdown",
      "metadata": {
        "id": "view-in-github",
        "colab_type": "text"
      },
      "source": [
        "<a href=\"https://colab.research.google.com/github/DLowlow44/20_minute_dapp/blob/master/Copy_of_Copy_of_colab.ipynb\" target=\"_parent\"><img src=\"https://colab.research.google.com/assets/colab-badge.svg\" alt=\"Open In Colab\"/></a>"
      ]
    },
    {
      "cell_type": "markdown",
      "metadata": {
        "id": "R91Z3XFBq5kC"
      },
      "source": [
        "# DragGAN Colab Demo\n",
        "\n",
        "Wild implementation of [Drag Your GAN: Interactive Point-based Manipulation on the Generative Image Manifold](https://vcai.mpi-inf.mpg.de/projects/DragGAN/)\n",
        "\n",
        "**Note for Colab, remember to select a GPU via `Runtime/Change runtime type` (`代码执行程序/更改运行时类型`).**"
      ]
    },
    {
      "cell_type": "code",
      "execution_count": null,
      "metadata": {
        "id": "Ywuc5a6bq5kJ"
      },
      "outputs": [],
      "source": [
        "#@title Installation\n",
        "!git clone https://github.com/Zeqiang-Lai/DragGAN.git\n",
        "\n",
        "import sys\n",
        "sys.path.append(\".\")\n",
        "sys.path.append('./DragGAN')\n",
        "\n",
        "!pip install -r DragGAN/requirements.txt\n",
        "\n",
        "from gradio_app import main"
      ]
    },
    {
      "cell_type": "markdown",
      "metadata": {
        "id": "zU-wRpwWq5kL"
      },
      "source": [
        "**If you have problem in the following demo, such as the incorrected image, or facing errors. Please try to run the following block again.**\n",
        "\n",
        "If the errors still exist, you could fire an issue on [Github](https://github.com/Zeqiang-Lai/DragGAN)."
      ]
    },
    {
      "cell_type": "code",
      "execution_count": null,
      "metadata": {
        "id": "1kDyWFU0q5kL"
      },
      "outputs": [],
      "source": [
        "demo = main()\n",
        "demo.queue(concurrency_count=1, max_size=20).launch()"
      ]
    }
  ],
  "metadata": {
    "kernelspec": {
      "display_name": "torch1.10",
      "language": "python",
      "name": "python3"
    },
    "language_info": {
      "codemirror_mode": {
        "name": "ipython",
        "version": 3
      },
      "file_extension": ".py",
      "mimetype": "text/x-python",
      "name": "python",
      "nbconvert_exporter": "python",
      "pygments_lexer": "ipython3",
      "version": "3.7.12"
    },
    "orig_nbformat": 4,
    "colab": {
      "provenance": [],
      "include_colab_link": true
    }
  },
  "nbformat": 4,
  "nbformat_minor": 0
}